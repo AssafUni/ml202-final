{
 "cells": [
  {
   "cell_type": "code",
   "execution_count": 2,
   "metadata": {},
   "outputs": [],
   "source": [
    "import os\n",
    "import time\n",
    "import numpy as np\n",
    "import pandas as pd\n",
    "\n",
    "from sklearn.ensemble import AdaBoostClassifier\n",
    "from sklearn.tree import DecisionTreeClassifier\n",
    "from sklearn.datasets import make_classification\n",
    "\n",
    "n_samples = 50\n",
    "\n",
    "weights = [np.ones(n_samples) * (1 / n_samples)]\n",
    "weights_bounded = [np.ones(n_samples) * (1 / n_samples)]\n",
    "\n",
    "class MadaBoostClassifier(AdaBoostClassifier):\n",
    "  def _boost(self, iboost, X, y, sample_weight, random_state):\n",
    "    n_samples = X.shape[0]\n",
    "    d0 = 1 / n_samples\n",
    "    new_weights = np.zeros(n_samples)\n",
    "    sample_weight, estimator_weight, estimator_error = super()._boost(iboost, X, y, sample_weight, random_state)\n",
    "\n",
    "    if sample_weight is None:\n",
    "      return sample_weight, estimator_weight, estimator_error\n",
    "\n",
    "    for idx, weight in enumerate(sample_weight):\n",
    "      if weight < d0:\n",
    "        new_weights[idx] = weight\n",
    "      else:\n",
    "        new_weights[idx] = d0\n",
    "    \n",
    "    weights.append(list(sample_weight))\n",
    "    weights_bounded.append(list(new_weights))\n",
    "    \n",
    "    return new_weights, estimator_weight, estimator_error\n",
    "\n",
    "\n",
    "X, y = make_classification(n_samples=n_samples)\n",
    "\n",
    "dt = DecisionTreeClassifier(max_depth=2, random_state=1)\n",
    "clf = MadaBoostClassifier(base_estimator=dt, n_estimators=100, random_state=0)\n",
    "clf.fit(X, y)\n",
    "\n",
    "results_dict = {}\n",
    "for idx, the_weights in enumerate(weights):\n",
    "    weights_display = []\n",
    "    weights_bounded_display = []\n",
    "    for idx_w, _ in enumerate(the_weights):\n",
    "        weights_display.append('{:.4f}'.format(weights[idx][idx_w]))\n",
    "        weights_bounded_display.append('{:.4f}'.format(weights_bounded[idx][idx_w]))\n",
    "    results_dict['Iteration {}'.format(idx + 1)] = weights_display\n",
    "    results_dict['Iteration {} Bounded'.format(idx + 1)] = weights_bounded_display\n",
    "\n",
    "weights_datset = pd.DataFrame(results_dict)\n",
    "weights_datset.to_csv('weights_datset.csv', index=False)"
   ]
  },
  {
   "cell_type": "code",
   "execution_count": null,
   "metadata": {},
   "outputs": [],
   "source": []
  }
 ],
 "metadata": {
  "kernelspec": {
   "display_name": "Python 3",
   "language": "python",
   "name": "python3"
  },
  "language_info": {
   "codemirror_mode": {
    "name": "ipython",
    "version": 3
   },
   "file_extension": ".py",
   "mimetype": "text/x-python",
   "name": "python",
   "nbconvert_exporter": "python",
   "pygments_lexer": "ipython3",
   "version": "3.7.7"
  }
 },
 "nbformat": 4,
 "nbformat_minor": 4
}
